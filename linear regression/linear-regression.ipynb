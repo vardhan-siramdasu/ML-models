{
 "cells": [
  {
   "cell_type": "markdown",
   "metadata": {
    "papermill": {
     "duration": 0.012839,
     "end_time": "2021-02-19T16:13:16.777981",
     "exception": false,
     "start_time": "2021-02-19T16:13:16.765142",
     "status": "completed"
    },
    "tags": []
   },
   "source": [
    "# **Introduction**\n",
    "\n",
    "hello everyone,\n",
    "in this notebook iam trying to play with 'LinearRegression' model of scikit library with a basic data set.\n",
    "\n"
   ]
  },
  {
   "cell_type": "markdown",
   "metadata": {
    "papermill": {
     "duration": 0.011443,
     "end_time": "2021-02-19T16:13:16.801029",
     "exception": false,
     "start_time": "2021-02-19T16:13:16.789586",
     "status": "completed"
    },
    "tags": []
   },
   "source": [
    "# libraries\n",
    "I'm going to be using the LinearRegression feature from scikit-learn because that's what this whole dataset is about!\n",
    "\n",
    "And of course, I imported pandas, numpy, and matplotlib to read the csv files and visualize the data.\n"
   ]
  },
  {
   "cell_type": "code",
   "execution_count": 1,
   "metadata": {
    "execution": {
     "iopub.execute_input": "2021-02-19T16:13:16.826396Z",
     "iopub.status.busy": "2021-02-19T16:13:16.825668Z",
     "iopub.status.idle": "2021-02-19T16:13:17.974775Z",
     "shell.execute_reply": "2021-02-19T16:13:17.974106Z"
    },
    "papermill": {
     "duration": 1.163279,
     "end_time": "2021-02-19T16:13:17.974980",
     "exception": false,
     "start_time": "2021-02-19T16:13:16.811701",
     "status": "completed"
    },
    "tags": []
   },
   "outputs": [],
   "source": [
    "# importing required modules\n",
    "\n",
    "import pandas as pd\n",
    "from sklearn.linear_model import LinearRegression\n",
    "import matplotlib.pyplot as plt"
   ]
  },
  {
   "cell_type": "code",
   "execution_count": 2,
   "metadata": {
    "execution": {
     "iopub.execute_input": "2021-02-19T16:13:18.004672Z",
     "iopub.status.busy": "2021-02-19T16:13:18.003868Z",
     "iopub.status.idle": "2021-02-19T16:13:18.041472Z",
     "shell.execute_reply": "2021-02-19T16:13:18.040585Z"
    },
    "papermill": {
     "duration": 0.055719,
     "end_time": "2021-02-19T16:13:18.041649",
     "exception": false,
     "start_time": "2021-02-19T16:13:17.985930",
     "status": "completed"
    },
    "tags": []
   },
   "outputs": [],
   "source": [
    "# reading train,test data \n",
    "\n",
    "train = pd.read_csv('../input/random-linear-regression/train.csv')\n",
    "\n",
    "test = pd.read_csv('../input/random-linear-regression/test.csv')"
   ]
  },
  {
   "cell_type": "code",
   "execution_count": 3,
   "metadata": {
    "execution": {
     "iopub.execute_input": "2021-02-19T16:13:18.103077Z",
     "iopub.status.busy": "2021-02-19T16:13:18.085922Z",
     "iopub.status.idle": "2021-02-19T16:13:18.107361Z",
     "shell.execute_reply": "2021-02-19T16:13:18.106855Z"
    },
    "papermill": {
     "duration": 0.053836,
     "end_time": "2021-02-19T16:13:18.107521",
     "exception": false,
     "start_time": "2021-02-19T16:13:18.053685",
     "status": "completed"
    },
    "tags": []
   },
   "outputs": [
    {
     "name": "stdout",
     "output_type": "stream",
     "text": [
      "<class 'pandas.core.frame.DataFrame'>\n",
      "RangeIndex: 700 entries, 0 to 699\n",
      "Data columns (total 2 columns):\n",
      " #   Column  Non-Null Count  Dtype  \n",
      "---  ------  --------------  -----  \n",
      " 0   x       700 non-null    float64\n",
      " 1   y       699 non-null    float64\n",
      "dtypes: float64(2)\n",
      "memory usage: 11.1 KB\n",
      "<class 'pandas.core.frame.DataFrame'>\n",
      "RangeIndex: 300 entries, 0 to 299\n",
      "Data columns (total 2 columns):\n",
      " #   Column  Non-Null Count  Dtype  \n",
      "---  ------  --------------  -----  \n",
      " 0   x       300 non-null    int64  \n",
      " 1   y       300 non-null    float64\n",
      "dtypes: float64(1), int64(1)\n",
      "memory usage: 4.8 KB\n"
     ]
    }
   ],
   "source": [
    "# check for any nan values\n",
    "train.info()\n",
    "test.info()"
   ]
  },
  {
   "cell_type": "code",
   "execution_count": 4,
   "metadata": {
    "execution": {
     "iopub.execute_input": "2021-02-19T16:13:18.139652Z",
     "iopub.status.busy": "2021-02-19T16:13:18.138989Z",
     "iopub.status.idle": "2021-02-19T16:13:18.185067Z",
     "shell.execute_reply": "2021-02-19T16:13:18.186512Z"
    },
    "papermill": {
     "duration": 0.067929,
     "end_time": "2021-02-19T16:13:18.186900",
     "exception": false,
     "start_time": "2021-02-19T16:13:18.118971",
     "status": "completed"
    },
    "tags": []
   },
   "outputs": [
    {
     "name": "stdout",
     "output_type": "stream",
     "text": [
      "<class 'pandas.core.frame.DataFrame'>\n",
      "Int64Index: 699 entries, 0 to 699\n",
      "Data columns (total 2 columns):\n",
      " #   Column  Non-Null Count  Dtype  \n",
      "---  ------  --------------  -----  \n",
      " 0   x       699 non-null    float64\n",
      " 1   y       699 non-null    float64\n",
      "dtypes: float64(2)\n",
      "memory usage: 16.4 KB\n",
      "<class 'pandas.core.frame.DataFrame'>\n",
      "Int64Index: 300 entries, 0 to 299\n",
      "Data columns (total 2 columns):\n",
      " #   Column  Non-Null Count  Dtype  \n",
      "---  ------  --------------  -----  \n",
      " 0   x       300 non-null    int64  \n",
      " 1   y       300 non-null    float64\n",
      "dtypes: float64(1), int64(1)\n",
      "memory usage: 7.0 KB\n"
     ]
    }
   ],
   "source": [
    "# removing nan values using dropna()\n",
    "\n",
    "train.dropna(inplace = True)\n",
    "test.dropna(inplace = True)\n",
    "\n",
    "train.info()\n",
    "test.info()"
   ]
  },
  {
   "cell_type": "code",
   "execution_count": 5,
   "metadata": {
    "execution": {
     "iopub.execute_input": "2021-02-19T16:13:18.236043Z",
     "iopub.status.busy": "2021-02-19T16:13:18.235334Z",
     "iopub.status.idle": "2021-02-19T16:13:18.566069Z",
     "shell.execute_reply": "2021-02-19T16:13:18.565412Z"
    },
    "papermill": {
     "duration": 0.365842,
     "end_time": "2021-02-19T16:13:18.566227",
     "exception": false,
     "start_time": "2021-02-19T16:13:18.200385",
     "status": "completed"
    },
    "tags": []
   },
   "outputs": [
    {
     "data": {
      "image/png": "[encoded data removed]",
      "text/plain": [
       "<Figure size 432x288 with 1 Axes>"
      ]
     },
     "metadata": {
      "needs_background": "light"
     },
     "output_type": "display_data"
    }
   ],
   "source": [
    "plt.title('scatter plot for train data')\n",
    "\n",
    "plt.scatter(train['x'],train['y'],color='blue')\n",
    "plt.xlabel('X_train')\n",
    "plt.ylabel('Y_train')\n",
    "\n",
    "plt.show()"
   ]
  },
  {
   "cell_type": "markdown",
   "metadata": {
    "papermill": {
     "duration": 0.012698,
     "end_time": "2021-02-19T16:13:18.591673",
     "exception": false,
     "start_time": "2021-02-19T16:13:18.578975",
     "status": "completed"
    },
    "tags": []
   },
   "source": [
    "#  *data visualization*"
   ]
  },
  {
   "cell_type": "code",
   "execution_count": 6,
   "metadata": {
    "execution": {
     "iopub.execute_input": "2021-02-19T16:13:18.641720Z",
     "iopub.status.busy": "2021-02-19T16:13:18.623817Z",
     "iopub.status.idle": "2021-02-19T16:13:18.785997Z",
     "shell.execute_reply": "2021-02-19T16:13:18.785285Z"
    },
    "papermill": {
     "duration": 0.181869,
     "end_time": "2021-02-19T16:13:18.786143",
     "exception": false,
     "start_time": "2021-02-19T16:13:18.604274",
     "status": "completed"
    },
    "tags": []
   },
   "outputs": [
    {
     "data": {
      "image/png": "[encoded data removed]",
      "text/plain": [
       "<Figure size 432x288 with 1 Axes>"
      ]
     },
     "metadata": {
      "needs_background": "light"
     },
     "output_type": "display_data"
    }
   ],
   "source": [
    "plt.title('scatter plot for test data')\n",
    "\n",
    "plt.scatter(test['x'],test['y'],color='green')\n",
    "plt.xlabel('X_test')\n",
    "plt.ylabel('Y_test')\n",
    "\n",
    "plt.show()"
   ]
  },
  {
   "cell_type": "markdown",
   "metadata": {
    "papermill": {
     "duration": 0.013384,
     "end_time": "2021-02-19T16:13:18.813176",
     "exception": false,
     "start_time": "2021-02-19T16:13:18.799792",
     "status": "completed"
    },
    "tags": []
   },
   "source": [
    "**dividing labels and features**"
   ]
  },
  {
   "cell_type": "code",
   "execution_count": 7,
   "metadata": {
    "execution": {
     "iopub.execute_input": "2021-02-19T16:13:18.849097Z",
     "iopub.status.busy": "2021-02-19T16:13:18.848417Z",
     "iopub.status.idle": "2021-02-19T16:13:18.851306Z",
     "shell.execute_reply": "2021-02-19T16:13:18.850642Z"
    },
    "papermill": {
     "duration": 0.024678,
     "end_time": "2021-02-19T16:13:18.851449",
     "exception": false,
     "start_time": "2021-02-19T16:13:18.826771",
     "status": "completed"
    },
    "tags": []
   },
   "outputs": [],
   "source": [
    "# spliting into labels and features\n",
    "\n",
    "x_train = train.iloc[:,0].values.reshape(-1,1)\n",
    "y_train = train.iloc[:,1].values.reshape(-1,1)\n",
    "\n",
    "x_test = test.iloc[:,0].values.reshape(-1,1)\n",
    "y_test = test.iloc[:,1].values.reshape(-1,1)"
   ]
  },
  {
   "cell_type": "markdown",
   "metadata": {
    "papermill": {
     "duration": 0.014281,
     "end_time": "2021-02-19T16:13:18.879517",
     "exception": false,
     "start_time": "2021-02-19T16:13:18.865236",
     "status": "completed"
    },
    "tags": []
   },
   "source": [
    "creating linear regression object"
   ]
  },
  {
   "cell_type": "code",
   "execution_count": 8,
   "metadata": {
    "execution": {
     "iopub.execute_input": "2021-02-19T16:13:18.917505Z",
     "iopub.status.busy": "2021-02-19T16:13:18.916791Z",
     "iopub.status.idle": "2021-02-19T16:13:18.919580Z",
     "shell.execute_reply": "2021-02-19T16:13:18.918900Z"
    },
    "papermill": {
     "duration": 0.025596,
     "end_time": "2021-02-19T16:13:18.919748",
     "exception": false,
     "start_time": "2021-02-19T16:13:18.894152",
     "status": "completed"
    },
    "tags": []
   },
   "outputs": [],
   "source": [
    "# creating object for LinearRegression()\n",
    "\n",
    "linear = LinearRegression()"
   ]
  },
  {
   "cell_type": "code",
   "execution_count": 9,
   "metadata": {
    "execution": {
     "iopub.execute_input": "2021-02-19T16:13:18.968152Z",
     "iopub.status.busy": "2021-02-19T16:13:18.959078Z",
     "iopub.status.idle": "2021-02-19T16:13:18.974906Z",
     "shell.execute_reply": "2021-02-19T16:13:18.974158Z"
    },
    "papermill": {
     "duration": 0.040829,
     "end_time": "2021-02-19T16:13:18.975076",
     "exception": false,
     "start_time": "2021-02-19T16:13:18.934247",
     "status": "completed"
    },
    "tags": []
   },
   "outputs": [
    {
     "data": {
      "text/plain": [
       "LinearRegression()"
      ]
     },
     "execution_count": 9,
     "metadata": {},
     "output_type": "execute_result"
    }
   ],
   "source": [
    "# fitting the linear model for train data\n",
    "\n",
    "linear.fit(x_train,y_train)"
   ]
  },
  {
   "cell_type": "code",
   "execution_count": 10,
   "metadata": {
    "execution": {
     "iopub.execute_input": "2021-02-19T16:13:19.010292Z",
     "iopub.status.busy": "2021-02-19T16:13:19.009505Z",
     "iopub.status.idle": "2021-02-19T16:13:19.012963Z",
     "shell.execute_reply": "2021-02-19T16:13:19.012359Z"
    },
    "papermill": {
     "duration": 0.023025,
     "end_time": "2021-02-19T16:13:19.013114",
     "exception": false,
     "start_time": "2021-02-19T16:13:18.990089",
     "status": "completed"
    },
    "tags": []
   },
   "outputs": [],
   "source": [
    "# predicting test data on trained model\n",
    "\n",
    "data_pred = linear.predict(x_test)"
   ]
  },
  {
   "cell_type": "code",
   "execution_count": 11,
   "metadata": {
    "execution": {
     "iopub.execute_input": "2021-02-19T16:13:19.071099Z",
     "iopub.status.busy": "2021-02-19T16:13:19.066453Z",
     "iopub.status.idle": "2021-02-19T16:13:19.249085Z",
     "shell.execute_reply": "2021-02-19T16:13:19.248360Z"
    },
    "papermill": {
     "duration": 0.220988,
     "end_time": "2021-02-19T16:13:19.249238",
     "exception": false,
     "start_time": "2021-02-19T16:13:19.028250",
     "status": "completed"
    },
    "tags": []
   },
   "outputs": [
    {
     "data": {
      "image/png": "[encoded data removed]",
      "text/plain": [
       "<Figure size 432x288 with 1 Axes>"
      ]
     },
     "metadata": {
      "needs_background": "light"
     },
     "output_type": "display_data"
    }
   ],
   "source": [
    "# ploting the prediction of test data\n",
    "plt.title('prediction on test data ')\n",
    "\n",
    "plt.plot(x_test, data_pred, label='Linear Regression', color='r')\n",
    "plt.scatter(x_test, y_test, label='Actual Test Data', color='g')\n",
    "\n",
    "plt.xlabel('x')\n",
    "plt.ylabel('y')\n",
    "\n",
    "plt.legend()\n",
    "plt.show()"
   ]
  },
  {
   "cell_type": "code",
   "execution_count": 12,
   "metadata": {
    "execution": {
     "iopub.execute_input": "2021-02-19T16:13:19.288982Z",
     "iopub.status.busy": "2021-02-19T16:13:19.287979Z",
     "iopub.status.idle": "2021-02-19T16:13:19.291961Z",
     "shell.execute_reply": "2021-02-19T16:13:19.291327Z"
    },
    "papermill": {
     "duration": 0.026858,
     "end_time": "2021-02-19T16:13:19.292099",
     "exception": false,
     "start_time": "2021-02-19T16:13:19.265241",
     "status": "completed"
    },
    "tags": []
   },
   "outputs": [
    {
     "name": "stdout",
     "output_type": "stream",
     "text": [
      "0.9883886222259362\n"
     ]
    }
   ],
   "source": [
    "# accuracy score for model\n",
    "\n",
    "accuracy_score = linear.score(y_test,data_pred)\n",
    "print(accuracy_score)"
   ]
  },
  {
   "cell_type": "markdown",
   "metadata": {
    "papermill": {
     "duration": 0.015623,
     "end_time": "2021-02-19T16:13:19.324145",
     "exception": false,
     "start_time": "2021-02-19T16:13:19.308522",
     "status": "completed"
    },
    "tags": []
   },
   "source": [
    "If you like, an upvote would be deeply appreciated. Thanks! :)"
   ]
  }
 ],
 "metadata": {
  "kernelspec": {
   "display_name": "Python 3",
   "language": "python",
   "name": "python3"
  },
  "language_info": {
   "codemirror_mode": {
    "name": "ipython",
    "version": 3
   },
   "file_extension": ".py",
   "mimetype": "text/x-python",
   "name": "python",
   "nbconvert_exporter": "python",
   "pygments_lexer": "ipython3",
   "version": "3.7.9"
  },
  "papermill": {
   "default_parameters": {},
   "duration": 9.835481,
   "end_time": "2021-02-19T16:13:20.051065",
   "environment_variables": {},
   "exception": null,
   "input_path": "__notebook__.ipynb",
   "output_path": "__notebook__.ipynb",
   "parameters": {},
   "start_time": "2021-02-19T16:13:10.215584",
   "version": "2.2.2"
  }
 },
 "nbformat": 4,
 "nbformat_minor": 4
}
